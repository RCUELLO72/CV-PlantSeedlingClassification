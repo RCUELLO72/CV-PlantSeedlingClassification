{
 "cells": [
  {
   "cell_type": "code",
   "execution_count": 17,
   "metadata": {},
   "outputs": [
    {
     "name": "stdout",
     "output_type": "stream",
     "text": [
      "GPU is on? True\n"
     ]
    }
   ],
   "source": [
    "import os\n",
    "from os import listdir, path\n",
    "import time\n",
    "import shutil\n",
    "import numpy as np \n",
    "import pandas as pd\n",
    "from tqdm import tqdm\n",
    "import random\n",
    "from matplotlib import pyplot as plt\n",
    "from PIL import Image\n",
    "\n",
    "import torch\n",
    "import torchvision\n",
    "import torch.nn.functional as F\n",
    "from torch import nn\n",
    "from torchvision.datasets import ImageFolder\n",
    "from torchvision.transforms.transforms import Compose, Resize, ToTensor, CenterCrop, Normalize\n",
    "from torch.utils.data import Dataset, DataLoader\n",
    "from sklearn.model_selection import train_test_split\n",
    "from torch.optim.lr_scheduler import StepLR\n",
    "\n",
    "%matplotlib inline\n",
    "\n",
    "if_gpu = torch.cuda.is_available()\n",
    "print(\"GPU is on?\", if_gpu)"
   ]
  },
  {
   "cell_type": "code",
   "execution_count": 4,
   "metadata": {},
   "outputs": [],
   "source": [
    "# Global variables\n",
    "SOURCE_DIR = '../../GDrive/Datasets/PlantSeedlings'\n",
    "STD_IMGSIZE = 64"
   ]
  },
  {
   "cell_type": "code",
   "execution_count": 5,
   "metadata": {},
   "outputs": [],
   "source": [
    "def show_sample_images(root_dir='..\\Datasets\\PlantSeedlings',sample_size=16,from_class=None):\n",
    "    '''\n",
    "    Display sample images from input directory\n",
    "    '''\n",
    "    # number of images on the x and y axes should be relatively close\n",
    "    for i in range(int(sample_size**0.5 + 1), 0, -1):\n",
    "        if sample_size % i == 0:\n",
    "            N_images_x = i\n",
    "            N_images_y = int(sample_size/N_images_x)\n",
    "            break\n",
    " \n",
    "    # sample data directory and show image in subplots\n",
    "    fig, ax = plt.subplots(N_images_x, N_images_y, squeeze=False)\n",
    "    for sample_number in range(sample_size):\n",
    "        if not from_class:\n",
    "            labels_list = listdir(path.join(root_dir, 'train'))\n",
    "            label = str(random.sample(labels_list, 1)[0])\n",
    "        \n",
    "        parent_directory = path.join(root_dir, 'train', label)\n",
    "        file_list = listdir(parent_directory)\n",
    "        file_name = random.sample(file_list, 1)[0]\n",
    "        img = Image.open(path.join(parent_directory, file_name))\n",
    "        ax[sample_number % N_images_x][sample_number // N_images_x].imshow(img)\n",
    "        ax[sample_number % N_images_x][sample_number // N_images_x].title.set_text(label)\n",
    "        \n",
    "    fig.set_figheight(N_images_y * 4)\n",
    "    fig.set_figwidth(N_images_y * 4)\n",
    "    #fig.show()  "
   ]
  },
  {
   "cell_type": "code",
   "execution_count": 6,
   "metadata": {},
   "outputs": [
    {
     "data": {
      "text/plain": [
       "['Black-grass',\n",
       " 'Charlock',\n",
       " 'Cleavers',\n",
       " 'Common Chickweed',\n",
       " 'Common wheat',\n",
       " 'Fat Hen',\n",
       " 'Loose Silky-bent',\n",
       " 'Maize',\n",
       " 'Scentless Mayweed',\n",
       " 'Shepherds Purse',\n",
       " 'Small-flowered Cranesbill',\n",
       " 'Sugar beet']"
      ]
     },
     "execution_count": 6,
     "metadata": {},
     "output_type": "execute_result"
    }
   ],
   "source": [
    "#show_sample_images(SOURCE_DIR)\n",
    "os.listdir(path.join(SOURCE_DIR,'train'))"
   ]
  },
  {
   "cell_type": "code",
   "execution_count": 10,
   "metadata": {},
   "outputs": [],
   "source": [
    "# Load all file names and classes in a DataFrame\n",
    "def getImageList(root_dir):\n",
    "    odf = pd.DataFrame(columns=['FileName','Class'])\n",
    "    seedlingTypes = os.listdir(path.join(root_dir,'train'))\n",
    "    for sType in seedlingTypes:\n",
    "        ixClass = seedlingTypes.index(sType)\n",
    "        fPath = path.join(root_dir, 'train', sType)\n",
    "        file_list = os.listdir(fPath)\n",
    "        tdf = pd.DataFrame(file_list,columns=['FileName'])\n",
    "        tdf['Class'] = ixClass\n",
    "        odf = odf.append(tdf)\n",
    "    return(odf)\n",
    "\n",
    "# Gets a balanced image list\n",
    "def getBalancedList(source_df,test_size=0.15):\n",
    "    capSize = source_df['Class'].value_counts().min()\n",
    "    ClassList = source_df.Class.unique()\n",
    "    odf = pd.DataFrame(columns=['FileName','Class'])\n",
    "    for sType in ClassList:\n",
    "        tdf = source_df[source_df['Class']==sType]\n",
    "        odf = odf.append(tdf.sample(capSize))\n",
    "    y = odf['Class']\n",
    "    return(train_test_split(odf,test_size=test_size,stratify=y))"
   ]
  },
  {
   "cell_type": "code",
   "execution_count": 48,
   "metadata": {},
   "outputs": [],
   "source": [
    "class SeedlingDataset(Dataset):\n",
    "    def __init__(self,image_df,root_dir,transform=None):\n",
    "        self.data = image_df\n",
    "        self.root_dir = root_dir\n",
    "        self.transform = transform\n",
    "        self.seedlingTypes = os.listdir(path.join(root_dir,'train'))\n",
    "        \n",
    "    def __len__(self):\n",
    "        return(len(self.data))\n",
    "    \n",
    "    def __getitem__(self,idx):\n",
    "        imgFileName, imgLabel = self.data.iloc[idx]\n",
    "        dirForLabel = self.seedlingTypes[imgLabel]\n",
    "        img = Image.open(path.join(self.root_dir,'train', dirForLabel, imgFileName))\n",
    "        img = img.convert('RGB')\n",
    "        if self.transform:\n",
    "            img = self.transform(img)\n",
    "        img = torch.from_numpy(np.array(img))\n",
    "        label = torch.tensor(imgLabel)    \n",
    "        return img, label\n",
    "    \n",
    "    def getClassNames(self):\n",
    "        return self.seedlingTypes"
   ]
  },
  {
   "cell_type": "code",
   "execution_count": 15,
   "metadata": {},
   "outputs": [],
   "source": [
    "def getDataLoaders(root_dir,batch_size,transforms,test_ratio=0.25):\n",
    "    X_train, X_test  = getBalancedList(getImageList(root_dir),test_ratio)\n",
    "    trainData = SeedlingDataset(X_train,root_dir,transforms)\n",
    "    testData = SeedlingDataset(X_test,root_dir,transforms)\n",
    "    trainLoader = DataLoader(trainData,batch_size=batch_size)\n",
    "    testLoader = DataLoader(testData,batch_size=batch_size)\n",
    "    return trainLoader, testLoader"
   ]
  },
  {
   "cell_type": "code",
   "execution_count": 25,
   "metadata": {},
   "outputs": [],
   "source": [
    "class TinyModel(nn.Module):\n",
    "    \n",
    "    def __init__(self):\n",
    "        super(TinyModel, self).__init__()\n",
    "        self.bn1 = nn.BatchNorm2d(3)\n",
    "        self.conv1 = nn.Conv2d(in_channels=3, out_channels=10, kernel_size=(5, 5))\n",
    "        self.bn2 = nn.BatchNorm2d(10)\n",
    "        self.conv2 = nn.Conv2d(in_channels=10 , out_channels=10, kernel_size=(5, 5), stride=2)\n",
    "        self.fc1 = nn.Linear(7840, 128)\n",
    "        self.fc2 = nn.Linear(128, 12)\n",
    "        \n",
    "    def forward(self, x):\n",
    "        x = F.relu(self.conv1(self.bn1(x)))\n",
    "        x = F.relu(self.conv2(self.bn2(x)))\n",
    "        x = x.view(-1, 7840)\n",
    "        x = F.relu(self.fc1(x))\n",
    "        x = self.fc2(x)\n",
    "        \n",
    "        return F.log_softmax(x, dim=1)\n",
    "    \n",
    "    def loss(self, prediction, true_values):\n",
    "\n",
    "        return F.nll_loss(prediction, true_values)"
   ]
  },
  {
   "cell_type": "code",
   "execution_count": 32,
   "metadata": {},
   "outputs": [],
   "source": [
    "def train(model, device, train_dataloader, optimizer, epoch, verbose=False):\n",
    "    model.train()\n",
    "    total_loss = 0\n",
    "    for batch_idx, (image, label) in enumerate(train_dataloader):\n",
    "        input_var = image.to(device)\n",
    "        target_var = label.to(device)\n",
    "        optimizer.zero_grad()\n",
    "        output = model(input_var)\n",
    "        loss = model.loss(output, target_var)\n",
    "        loss.backward()\n",
    "        optimizer.step()\n",
    "        total_loss += loss\n",
    "        if batch_idx % 10 == 0 and verbose:\n",
    "            print('Train Epoch: {0}, Train batch: {1}, Batch loss: {2}'\n",
    "                  .format(epoch, batch_idx, loss))\n",
    "    \n",
    "    epoch_loss = total_loss/(batch_idx + 1)\n",
    "    return epoch_loss\n",
    "\n",
    "def test(model, device, test_dataloader):\n",
    "    model.eval()\n",
    "    correct = 0\n",
    "    with torch.no_grad():\n",
    "        for image, label in test_dataloader:\n",
    "            input_var = image.to(device)\n",
    "            target_var = label.to(device)\n",
    "            output = model(input_var)\n",
    "            prediction = output.argmax(dim=1, keepdim=True)\n",
    "            correct += prediction.eq(target_var.view_as(prediction)).sum().item()\n",
    "    \n",
    "    accuracy = correct / len(test_dataloader.dataset)\n",
    "    \n",
    "    return accuracy"
   ]
  },
  {
   "cell_type": "code",
   "execution_count": 46,
   "metadata": {},
   "outputs": [
    {
     "name": "stdout",
     "output_type": "stream",
     "text": [
      "The model has 1008492 parameters\n",
      "number of train examples: 2386, number of test examles: 266\n",
      "Training loss for epoch 1 is 2.47587.   LR=[0.1]\n",
      "Test accuracy: 0.158\n",
      "Epoch time: 49.7 seconds\n",
      "Training loss for epoch 2 is 2.07247.   LR=[0.07500000000000001]\n",
      "Test accuracy: 0.305\n",
      "Epoch time: 53.7 seconds\n",
      "Training loss for epoch 3 is 1.50505.   LR=[0.05625]\n",
      "Test accuracy: 0.459\n",
      "Epoch time: 57.8 seconds\n",
      "Training loss for epoch 4 is 1.02420.   LR=[0.0421875]\n",
      "Test accuracy: 0.564\n",
      "Epoch time: 59.0 seconds\n",
      "Training loss for epoch 5 is 0.68727.   LR=[0.031640625]\n",
      "Test accuracy: 0.575\n",
      "Epoch time: 57.0 seconds\n",
      "Training loss for epoch 6 is 0.45383.   LR=[0.02373046875]\n",
      "Test accuracy: 0.635\n",
      "Epoch time: 56.4 seconds\n",
      "Training loss for epoch 7 is 0.28933.   LR=[0.0177978515625]\n",
      "Test accuracy: 0.673\n",
      "Epoch time: 55.9 seconds\n",
      "Training loss for epoch 8 is 0.18691.   LR=[0.013348388671875001]\n",
      "Test accuracy: 0.692\n",
      "Epoch time: 64.2 seconds\n",
      "Training loss for epoch 9 is 0.12156.   LR=[0.01001129150390625]\n",
      "Test accuracy: 0.665\n",
      "Epoch time: 56.7 seconds\n",
      "Training loss for epoch 10 is 0.08262.   LR=[0.007508468627929688]\n",
      "Test accuracy: 0.677\n",
      "Epoch time: 60.3 seconds\n",
      "Training loss for epoch 11 is 0.06124.   LR=[0.005631351470947266]\n",
      "Test accuracy: 0.677\n",
      "Epoch time: 58.0 seconds\n",
      "Training loss for epoch 12 is 0.04888.   LR=[0.004223513603210449]\n",
      "Test accuracy: 0.677\n",
      "Epoch time: 61.0 seconds\n",
      "Training loss for epoch 13 is 0.04153.   LR=[0.0031676352024078373]\n",
      "Test accuracy: 0.673\n",
      "Epoch time: 57.2 seconds\n",
      "Training loss for epoch 14 is 0.03702.   LR=[0.002375726401805878]\n",
      "Test accuracy: 0.669\n",
      "Epoch time: 47.1 seconds\n",
      "Training loss for epoch 15 is 0.03407.   LR=[0.0017817948013544084]\n",
      "Test accuracy: 0.669\n",
      "Epoch time: 46.6 seconds\n",
      "Training loss for epoch 16 is 0.03204.   LR=[0.0013363461010158064]\n",
      "Test accuracy: 0.669\n",
      "Epoch time: 52.4 seconds\n",
      "Training loss for epoch 17 is 0.03059.   LR=[0.0010022595757618548]\n",
      "Test accuracy: 0.669\n",
      "Epoch time: 49.2 seconds\n",
      "Training loss for epoch 18 is 0.02955.   LR=[0.000751694681821391]\n",
      "Test accuracy: 0.669\n",
      "Epoch time: 51.5 seconds\n",
      "Training loss for epoch 19 is 0.02878.   LR=[0.0005637710113660432]\n",
      "Test accuracy: 0.669\n",
      "Epoch time: 46.2 seconds\n",
      "Training loss for epoch 20 is 0.02820.   LR=[0.00042282825852453244]\n",
      "Test accuracy: 0.669\n",
      "Epoch time: 44.9 seconds\n"
     ]
    }
   ],
   "source": [
    "# main\n",
    "losses = []\n",
    "accuracies = []\n",
    "n_epochs = 20\n",
    "learning_rate = 0.1\n",
    "lr_decay = 5 # every 10 epochs, the learning rate is divided by 10\n",
    "batch_size = 24\n",
    "use_cuda = True # use True to switch to GPU\n",
    "\n",
    "device = torch.device(\"cuda\" if use_cuda else \"cpu\")\n",
    "model = TinyModel().to(device)\n",
    "print('The model has {0} parameters'.format(sum([len(i.reshape(-1)) for i in model.parameters()]) ))\n",
    "\n",
    "data_transformers = Compose([Resize(STD_IMGSIZE), CenterCrop(STD_IMGSIZE), ToTensor()])\n",
    "train_loader, test_loader = getDataLoaders(SOURCE_DIR, batch_size, data_transformers, test_ratio=0.1)\n",
    "print('Number of train examples: {0}, number of test examles: {1}'\n",
    "      .format(len(train_loader.dataset), len(test_loader.dataset)))\n",
    "\n",
    "optimizer = torch.optim.SGD(model.parameters(), lr=learning_rate)\n",
    "lr_scheduler = StepLR(optimizer, step_size=1, gamma=0.75)\n",
    "\n",
    "for epoch in range(1, n_epochs + 1):\n",
    "    tic = time.time()\n",
    "    epoch_loss = train(model, device, train_loader, optimizer, epoch)\n",
    "    print('Training loss for epoch {0} is {1:.5f}.   LR={2}'.format(epoch, epoch_loss,lr_scheduler.get_lr()))\n",
    "    losses.append(epoch_loss)\n",
    "    accuracy = test(model, device, test_loader)\n",
    "    print('Test accuracy: {0:.3f}'.format(accuracy))\n",
    "    accuracies.append(accuracy)\n",
    "    lr_scheduler.step()\n",
    "    tac = time.time()\n",
    "    print('Epoch time: {0:0.1f} seconds'.format(tac - tic))"
   ]
  },
  {
   "cell_type": "code",
   "execution_count": 47,
   "metadata": {},
   "outputs": [
    {
     "data": {
      "image/png": "[encoded data removed]",
      "text/plain": [
       "<Figure size 576x288 with 2 Axes>"
      ]
     },
     "metadata": {
      "needs_background": "light"
     },
     "output_type": "display_data"
    }
   ],
   "source": [
    "fig, ax1 = plt.subplots(figsize=(8,4))\n",
    "\n",
    "ax1.set_xlabel('Epochs')\n",
    "ax1.set_ylabel('Training loss', color='r')\n",
    "ax1.plot(range(1, n_epochs + 1), losses, color='r')\n",
    "ax1.tick_params(axis='y', labelcolor='r')\n",
    "\n",
    "ax2 = ax1.twinx()\n",
    "ax2.set_ylabel('Test accuracy', color='b')\n",
    "ax2.plot(range(1, n_epochs + 1), accuracies, color='b')\n",
    "ax2.tick_params(axis='y', labelcolor='b')\n",
    "fig.tight_layout()\n",
    "plt.show()"
   ]
  },
  {
   "cell_type": "code",
   "execution_count": 49,
   "metadata": {},
   "outputs": [
    {
     "ename": "TypeError",
     "evalue": "'DataLoader' object is not subscriptable",
     "output_type": "error",
     "traceback": [
      "\u001b[1;31m---------------------------------------------------------------------------\u001b[0m",
      "\u001b[1;31mTypeError\u001b[0m                                 Traceback (most recent call last)",
      "\u001b[1;32m<ipython-input-49-e23fcd883b33>\u001b[0m in \u001b[0;36m<module>\u001b[1;34m\u001b[0m\n\u001b[1;32m----> 1\u001b[1;33m \u001b[0mtest_loader\u001b[0m\u001b[1;33m[\u001b[0m\u001b[1;36m0\u001b[0m\u001b[1;33m]\u001b[0m\u001b[1;33m\u001b[0m\u001b[1;33m\u001b[0m\u001b[0m\n\u001b[0m",
      "\u001b[1;31mTypeError\u001b[0m: 'DataLoader' object is not subscriptable"
     ]
    }
   ],
   "source": [
    "test_loader[0]"
   ]
  },
  {
   "cell_type": "code",
   "execution_count": null,
   "metadata": {},
   "outputs": [],
   "source": []
  }
 ],
 "metadata": {
  "kernelspec": {
   "display_name": "Python 3",
   "language": "python",
   "name": "python3"
  },
  "language_info": {
   "codemirror_mode": {
    "name": "ipython",
    "version": 3
   },
   "file_extension": ".py",
   "mimetype": "text/x-python",
   "name": "python",
   "nbconvert_exporter": "python",
   "pygments_lexer": "ipython3",
   "version": "3.7.4"
  }
 },
 "nbformat": 4,
 "nbformat_minor": 4
}
